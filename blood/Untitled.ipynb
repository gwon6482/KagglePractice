{
 "cells": [
  {
   "cell_type": "code",
   "execution_count": 2,
   "id": "67d209c4",
   "metadata": {},
   "outputs": [],
   "source": [
    "import numpy as np\n",
    "import pandas as pd\n",
    "from matplotlib import pyplot as plt"
   ]
  },
  {
   "cell_type": "code",
   "execution_count": 3,
   "id": "8627c857",
   "metadata": {},
   "outputs": [],
   "source": [
    "data = pd.read_csv(\"./blood.csv\")"
   ]
  },
  {
   "cell_type": "code",
   "execution_count": 4,
   "id": "b211028e",
   "metadata": {},
   "outputs": [
    {
     "data": {
      "text/html": [
       "<div>\n",
       "<style scoped>\n",
       "    .dataframe tbody tr th:only-of-type {\n",
       "        vertical-align: middle;\n",
       "    }\n",
       "\n",
       "    .dataframe tbody tr th {\n",
       "        vertical-align: top;\n",
       "    }\n",
       "\n",
       "    .dataframe thead th {\n",
       "        text-align: right;\n",
       "    }\n",
       "</style>\n",
       "<table border=\"1\" class=\"dataframe\">\n",
       "  <thead>\n",
       "    <tr style=\"text-align: right;\">\n",
       "      <th></th>\n",
       "      <th>SEX</th>\n",
       "      <th>BTH_G</th>\n",
       "      <th>SBP</th>\n",
       "      <th>DBP</th>\n",
       "      <th>FBS</th>\n",
       "      <th>DIS</th>\n",
       "      <th>BMI</th>\n",
       "    </tr>\n",
       "  </thead>\n",
       "  <tbody>\n",
       "    <tr>\n",
       "      <th>0</th>\n",
       "      <td>1</td>\n",
       "      <td>1</td>\n",
       "      <td>116</td>\n",
       "      <td>78</td>\n",
       "      <td>94</td>\n",
       "      <td>4</td>\n",
       "      <td>16.6</td>\n",
       "    </tr>\n",
       "    <tr>\n",
       "      <th>1</th>\n",
       "      <td>1</td>\n",
       "      <td>1</td>\n",
       "      <td>100</td>\n",
       "      <td>60</td>\n",
       "      <td>79</td>\n",
       "      <td>4</td>\n",
       "      <td>22.3</td>\n",
       "    </tr>\n",
       "    <tr>\n",
       "      <th>2</th>\n",
       "      <td>1</td>\n",
       "      <td>1</td>\n",
       "      <td>100</td>\n",
       "      <td>60</td>\n",
       "      <td>87</td>\n",
       "      <td>4</td>\n",
       "      <td>21.9</td>\n",
       "    </tr>\n",
       "    <tr>\n",
       "      <th>3</th>\n",
       "      <td>1</td>\n",
       "      <td>1</td>\n",
       "      <td>111</td>\n",
       "      <td>70</td>\n",
       "      <td>72</td>\n",
       "      <td>4</td>\n",
       "      <td>20.2</td>\n",
       "    </tr>\n",
       "    <tr>\n",
       "      <th>4</th>\n",
       "      <td>1</td>\n",
       "      <td>1</td>\n",
       "      <td>120</td>\n",
       "      <td>80</td>\n",
       "      <td>98</td>\n",
       "      <td>4</td>\n",
       "      <td>20.0</td>\n",
       "    </tr>\n",
       "    <tr>\n",
       "      <th>...</th>\n",
       "      <td>...</td>\n",
       "      <td>...</td>\n",
       "      <td>...</td>\n",
       "      <td>...</td>\n",
       "      <td>...</td>\n",
       "      <td>...</td>\n",
       "      <td>...</td>\n",
       "    </tr>\n",
       "    <tr>\n",
       "      <th>999995</th>\n",
       "      <td>2</td>\n",
       "      <td>27</td>\n",
       "      <td>120</td>\n",
       "      <td>70</td>\n",
       "      <td>81</td>\n",
       "      <td>2</td>\n",
       "      <td>23.1</td>\n",
       "    </tr>\n",
       "    <tr>\n",
       "      <th>999996</th>\n",
       "      <td>2</td>\n",
       "      <td>27</td>\n",
       "      <td>110</td>\n",
       "      <td>70</td>\n",
       "      <td>104</td>\n",
       "      <td>2</td>\n",
       "      <td>27.2</td>\n",
       "    </tr>\n",
       "    <tr>\n",
       "      <th>999997</th>\n",
       "      <td>2</td>\n",
       "      <td>27</td>\n",
       "      <td>115</td>\n",
       "      <td>53</td>\n",
       "      <td>110</td>\n",
       "      <td>1</td>\n",
       "      <td>25.2</td>\n",
       "    </tr>\n",
       "    <tr>\n",
       "      <th>999998</th>\n",
       "      <td>2</td>\n",
       "      <td>27</td>\n",
       "      <td>120</td>\n",
       "      <td>70</td>\n",
       "      <td>90</td>\n",
       "      <td>2</td>\n",
       "      <td>19.7</td>\n",
       "    </tr>\n",
       "    <tr>\n",
       "      <th>999999</th>\n",
       "      <td>2</td>\n",
       "      <td>27</td>\n",
       "      <td>116</td>\n",
       "      <td>73</td>\n",
       "      <td>92</td>\n",
       "      <td>4</td>\n",
       "      <td>17.6</td>\n",
       "    </tr>\n",
       "  </tbody>\n",
       "</table>\n",
       "<p>1000000 rows × 7 columns</p>\n",
       "</div>"
      ],
      "text/plain": [
       "        SEX  BTH_G  SBP  DBP  FBS  DIS   BMI\n",
       "0         1      1  116   78   94    4  16.6\n",
       "1         1      1  100   60   79    4  22.3\n",
       "2         1      1  100   60   87    4  21.9\n",
       "3         1      1  111   70   72    4  20.2\n",
       "4         1      1  120   80   98    4  20.0\n",
       "...     ...    ...  ...  ...  ...  ...   ...\n",
       "999995    2     27  120   70   81    2  23.1\n",
       "999996    2     27  110   70  104    2  27.2\n",
       "999997    2     27  115   53  110    1  25.2\n",
       "999998    2     27  120   70   90    2  19.7\n",
       "999999    2     27  116   73   92    4  17.6\n",
       "\n",
       "[1000000 rows x 7 columns]"
      ]
     },
     "execution_count": 4,
     "metadata": {},
     "output_type": "execute_result"
    }
   ],
   "source": [
    "data"
   ]
  },
  {
   "cell_type": "markdown",
   "id": "0c99aa91",
   "metadata": {},
   "source": [
    "### SEX 1-men 2-wonen\n",
    "### SBP - systolic pressure\n",
    "### DBP - diastolic pressure\n",
    "### FBS - fasting blood glucose\n",
    "### BMI - body mass index\n",
    "### DIS - 1 - 고혈압 및 당뇨\n",
    "###          2 - 고혈압\n",
    "###          3 - 당뇨\n",
    "###          4 - 둘다 없음"
   ]
  },
  {
   "cell_type": "code",
   "execution_count": 12,
   "id": "22356b51",
   "metadata": {},
   "outputs": [
    {
     "data": {
      "text/html": [
       "<div>\n",
       "<style scoped>\n",
       "    .dataframe tbody tr th:only-of-type {\n",
       "        vertical-align: middle;\n",
       "    }\n",
       "\n",
       "    .dataframe tbody tr th {\n",
       "        vertical-align: top;\n",
       "    }\n",
       "\n",
       "    .dataframe thead th {\n",
       "        text-align: right;\n",
       "    }\n",
       "</style>\n",
       "<table border=\"1\" class=\"dataframe\">\n",
       "  <thead>\n",
       "    <tr style=\"text-align: right;\">\n",
       "      <th></th>\n",
       "      <th>SBP</th>\n",
       "      <th>DIS</th>\n",
       "    </tr>\n",
       "  </thead>\n",
       "  <tbody>\n",
       "    <tr>\n",
       "      <th>0</th>\n",
       "      <td>116</td>\n",
       "      <td>4</td>\n",
       "    </tr>\n",
       "    <tr>\n",
       "      <th>1</th>\n",
       "      <td>100</td>\n",
       "      <td>4</td>\n",
       "    </tr>\n",
       "    <tr>\n",
       "      <th>2</th>\n",
       "      <td>100</td>\n",
       "      <td>4</td>\n",
       "    </tr>\n",
       "    <tr>\n",
       "      <th>3</th>\n",
       "      <td>111</td>\n",
       "      <td>4</td>\n",
       "    </tr>\n",
       "    <tr>\n",
       "      <th>4</th>\n",
       "      <td>120</td>\n",
       "      <td>4</td>\n",
       "    </tr>\n",
       "    <tr>\n",
       "      <th>...</th>\n",
       "      <td>...</td>\n",
       "      <td>...</td>\n",
       "    </tr>\n",
       "    <tr>\n",
       "      <th>999995</th>\n",
       "      <td>120</td>\n",
       "      <td>2</td>\n",
       "    </tr>\n",
       "    <tr>\n",
       "      <th>999996</th>\n",
       "      <td>110</td>\n",
       "      <td>2</td>\n",
       "    </tr>\n",
       "    <tr>\n",
       "      <th>999997</th>\n",
       "      <td>115</td>\n",
       "      <td>1</td>\n",
       "    </tr>\n",
       "    <tr>\n",
       "      <th>999998</th>\n",
       "      <td>120</td>\n",
       "      <td>2</td>\n",
       "    </tr>\n",
       "    <tr>\n",
       "      <th>999999</th>\n",
       "      <td>116</td>\n",
       "      <td>4</td>\n",
       "    </tr>\n",
       "  </tbody>\n",
       "</table>\n",
       "<p>1000000 rows × 2 columns</p>\n",
       "</div>"
      ],
      "text/plain": [
       "        SBP  DIS\n",
       "0       116    4\n",
       "1       100    4\n",
       "2       100    4\n",
       "3       111    4\n",
       "4       120    4\n",
       "...     ...  ...\n",
       "999995  120    2\n",
       "999996  110    2\n",
       "999997  115    1\n",
       "999998  120    2\n",
       "999999  116    4\n",
       "\n",
       "[1000000 rows x 2 columns]"
      ]
     },
     "execution_count": 12,
     "metadata": {},
     "output_type": "execute_result"
    }
   ],
   "source": [
    "focus  = data[['SBP','DIS']]\n",
    "focus"
   ]
  },
  {
   "cell_type": "code",
   "execution_count": 14,
   "id": "34200bdb",
   "metadata": {},
   "outputs": [
    {
     "data": {
      "text/plain": [
       "SBP    1000000\n",
       "DIS    1000000\n",
       "dtype: int64"
      ]
     },
     "execution_count": 14,
     "metadata": {},
     "output_type": "execute_result"
    }
   ],
   "source": [
    "focus.count()"
   ]
  },
  {
   "cell_type": "code",
   "execution_count": 38,
   "id": "da40f45b",
   "metadata": {},
   "outputs": [],
   "source": [
    "old_standard = data['SBP'] >= 180\n",
    "new_standard = data['SBP'] >= 120\n",
    "\n",
    "DI_ratio = data['DIS'] == 3"
   ]
  },
  {
   "cell_type": "code",
   "execution_count": 39,
   "id": "adb220b9",
   "metadata": {},
   "outputs": [
    {
     "data": {
      "text/plain": [
       "SEX      43114\n",
       "BTH_G    43114\n",
       "SBP      43114\n",
       "DBP      43114\n",
       "FBS      43114\n",
       "DIS      43114\n",
       "BMI      43114\n",
       "dtype: int64"
      ]
     },
     "execution_count": 39,
     "metadata": {},
     "output_type": "execute_result"
    }
   ],
   "source": [
    "data[DI_ratio].count()"
   ]
  },
  {
   "cell_type": "code",
   "execution_count": 40,
   "id": "cfb85e07",
   "metadata": {},
   "outputs": [
    {
     "data": {
      "text/plain": [
       "SBP    1588\n",
       "DIS    1588\n",
       "dtype: int64"
      ]
     },
     "execution_count": 40,
     "metadata": {},
     "output_type": "execute_result"
    }
   ],
   "source": [
    "focus[old_standard].count()"
   ]
  },
  {
   "cell_type": "code",
   "execution_count": 42,
   "id": "849a36f9",
   "metadata": {},
   "outputs": [
    {
     "data": {
      "text/plain": [
       "SBP    55\n",
       "DIS    55\n",
       "dtype: int64"
      ]
     },
     "execution_count": 42,
     "metadata": {},
     "output_type": "execute_result"
    }
   ],
   "source": [
    "focus[old_standard & DI_ratio].count()"
   ]
  },
  {
   "cell_type": "code",
   "execution_count": 41,
   "id": "4f37f7de",
   "metadata": {},
   "outputs": [
    {
     "data": {
      "text/plain": [
       "SBP    580822\n",
       "DIS    580822\n",
       "dtype: int64"
      ]
     },
     "execution_count": 41,
     "metadata": {},
     "output_type": "execute_result"
    }
   ],
   "source": [
    "focus[new_standard].count()"
   ]
  },
  {
   "cell_type": "code",
   "execution_count": 43,
   "id": "d0e4e8e6",
   "metadata": {},
   "outputs": [
    {
     "data": {
      "text/plain": [
       "SBP    27587\n",
       "DIS    27587\n",
       "dtype: int64"
      ]
     },
     "execution_count": 43,
     "metadata": {},
     "output_type": "execute_result"
    }
   ],
   "source": [
    "focus[new_standard & DI_ratio].count()"
   ]
  }
 ],
 "metadata": {
  "kernelspec": {
   "display_name": "Python 3 (ipykernel)",
   "language": "python",
   "name": "python3"
  },
  "language_info": {
   "codemirror_mode": {
    "name": "ipython",
    "version": 3
   },
   "file_extension": ".py",
   "mimetype": "text/x-python",
   "name": "python",
   "nbconvert_exporter": "python",
   "pygments_lexer": "ipython3",
   "version": "3.8.0"
  }
 },
 "nbformat": 4,
 "nbformat_minor": 5
}
